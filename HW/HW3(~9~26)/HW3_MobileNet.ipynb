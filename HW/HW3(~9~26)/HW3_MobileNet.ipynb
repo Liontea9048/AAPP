{
  "cells": [
    {
      "cell_type": "markdown",
      "metadata": {
        "id": "_4X9M25jzxef"
      },
      "source": [
        "# | HW3 | MobileNetV2 변형해 보기\n",
        "\n",
        "**Due: 9/26, 11:59 PM**\n",
        "\n",
        "- **채점 기준**\n",
        "  - 아래 과제 설명을 따라야한다.\n",
        "  - test accuracy가 **80% 이상** 나와야 한다.\n",
        "- **제출**\n",
        "  - \"HW3_학번_이름.ipynb\" 형태로 저장하여 Jupyter Notebook을 그대로 제출.\n",
        "    - 예: HW3_2022_12345_keondo.ipynb\n",
        "  - output 지우지 말아 주세요"
      ]
    },
    {
      "cell_type": "markdown",
      "metadata": {
        "id": "CbiOlVdNzxei",
        "scrolled": false
      },
      "source": [
        "---"
      ]
    },
    {
      "cell_type": "markdown",
      "metadata": {
        "id": "zlwfSBH3zxej"
      },
      "source": [
        "`BatchNormalization(axis, momentum, epsilon)` : https://keras.io/api/layers/normalization_layers/batch_normalization/\n",
        "- axis: Batch normalization이 적용될 axis. 우리는 채널에 대해서 BN을 적용할 것이다. \n",
        "- momentum: Moving average에 적용될 momentum 계수\n",
        "- epsilon: 0으로 나누는 것을 방지하기 위한 작은 수.\n",
        "\n",
        "\n",
        "`DepthwiseConv2D(kernel_size, strides, padding, use_bias, depthwise_regularizer)` : https://keras.io/api/layers/convolution_layers/depthwise_convolution2d/"
      ]
    },
    {
      "cell_type": "markdown",
      "metadata": {
        "id": "dbeM7t9Wzxek"
      },
      "source": [
        "paper:[MobileNetV3](https://openaccess.thecvf.com/content_ICCV_2019/papers/Howard_Searching_for_MobileNetV3_ICCV_2019_paper.pdf)  \n",
        "\n",
        "이번 과제에서는 MobileNetV3에서 추가된 내용 중 일부를 반영해 볼 것이다. MobilenetV3에서는 모델의 마지막 부분에 아래 그림과 같은 변화가 있었는데, 요약하자면\n",
        "* Average pooling 앞의 1x1 Convolution layer와 Average pooling layer의 순서를 바꾸어 줌으로써 Computation은 줄이면서 정보의 손실은 최소화하였다.\n",
        "* 위 변화가 일어나게 됨으로써 그 이전 Inverted residual layer에서 projection/filtering을 해 줄 필요가 없어졌다. 따라서 마지막 Inverted residual layer의 Expansion 이후 바로 Average pooling이 오게 된다.\n",
        "* 아래 그림을 보면 더 이해가 쉬울 것이다.\n",
        "<img src=\"https://user-images.githubusercontent.com/37704174/112775642-734f8a80-9078-11eb-9bc1-a860a1fea407.PNG\" width=\"700\" height=\"700\"/> \n",
        "* 마지막 Inverted residual layer는 Original last stage 그림에서 맨 앞 세개이다.\n",
        "\n",
        "\n",
        "<br>\n",
        "위 내용을 참조하여 Network의 마지막 부분을 변형한 MobileNetV2plus를 구성하라. 위 그림상의 H-swish는 고려하지 않아도 된다.\n",
        "<img src=\"https://user-images.githubusercontent.com/37704174/112777027-1229b600-907c-11eb-9f89-a7b61c0843be.PNG\" width=\"700\" height=\"700\"/>  \n",
        "\n",
        "- **채점기준**\n",
        "  - 위의 변경 사항 반영하기\n",
        "    - MobileNetV2에서 마지막 inverted residual block 및 뒷부분을 고치면 됨\n",
        "    - Average pooling의 output의 가로 세로는 1임\n",
        "  - test accuracy **80%** 이상\n",
        "    - BatchNormalization, Activation, Dropout, Regularization, Weight initialization 등 자유롭게 수정, 추가, 제거 가능\n",
        "    - `strides` 수정 가능\n",
        "    - 나머지는 그대로\n"
      ]
    },
    {
      "cell_type": "markdown",
      "metadata": {
        "id": "_zQAEuO1zxek"
      },
      "source": [
        "## Import Modules"
      ]
    },
    {
      "cell_type": "code",
      "execution_count": 1,
      "metadata": {
        "id": "PwJ-gqa8zxel",
        "scrolled": false
      },
      "outputs": [
        {
          "name": "stderr",
          "output_type": "stream",
          "text": [
            "/Users/liontea/miniconda3/envs/tf2.9.2_p3.10.5/lib/python3.10/site-packages/scipy/__init__.py:146: UserWarning: A NumPy version >=1.16.5 and <1.23.0 is required for this version of SciPy (detected version 1.23.2\n",
            "  warnings.warn(f\"A NumPy version >={np_minversion} and <{np_maxversion}\"\n"
          ]
        }
      ],
      "source": [
        "import tensorflow as tf\n",
        "import os\n",
        "import numpy as np\n",
        "import matplotlib.pyplot as plt\n",
        "### Q1. Import modules ###\n",
        "\n",
        "from tensorflow.keras.models import Model\n",
        "from tensorflow.keras.layers import Add, ReLU, Input, Dense, Activation, Flatten, Conv2D, \\\n",
        "    DepthwiseConv2D, BatchNormalization, GlobalAveragePooling2D, Dropout\n",
        "from tensorflow.keras.regularizers import l2"
      ]
    },
    {
      "cell_type": "code",
      "execution_count": 2,
      "metadata": {},
      "outputs": [
        {
          "data": {
            "text/plain": [
              "'2.9.2'"
            ]
          },
          "execution_count": 2,
          "metadata": {},
          "output_type": "execute_result"
        }
      ],
      "source": [
        "tf.__version__"
      ]
    },
    {
      "cell_type": "code",
      "execution_count": 3,
      "metadata": {},
      "outputs": [
        {
          "name": "stdout",
          "output_type": "stream",
          "text": [
            "Num_GPUs:1, List:[PhysicalDevice(name='/physical_device:GPU:0', device_type='GPU')]\n"
          ]
        }
      ],
      "source": [
        "os.environ[\"CUDA_VISIBLE_DEVICES\"] = \"0\"\n",
        "\"\"\"\n",
        "Make sure your runtime type is GPU!\n",
        "\"\"\"\n",
        "physical_devices = tf.config.list_physical_devices('GPU')\n",
        "print('Num_GPUs:{}, List:{}'.format(len(physical_devices), physical_devices))\n",
        "gpu_growth = False\n",
        "\n",
        "if gpu_growth:\n",
        "    physical_devices = tf.config.list_physical_devices('GPU')\n",
        "    try:\n",
        "        tf.config.experimental.set_memory_growth(physical_devices[0], True)\n",
        "    except:\n",
        "        # Invalid device or cannot modify virtual devices once initialized.\n",
        "        pass"
      ]
    },
    {
      "cell_type": "markdown",
      "metadata": {
        "id": "C5-6x854zxem"
      },
      "source": [
        "## Inverted Residual Block\n",
        "\n",
        "- 실습 때 한 것과 동일: 확인완료"
      ]
    },
    {
      "cell_type": "code",
      "execution_count": 4,
      "metadata": {
        "id": "KGjTG3kAzxem",
        "scrolled": false
      },
      "outputs": [],
      "source": [
        "def _inverted_res_block(inputs, expansion, filters, strides):\n",
        "    momentum = 0.9 # default: 0.99\n",
        "    regularization = 1e-5 # default : 4e-5\n",
        "    # momentum = 0.99 # default: 0.99\n",
        "    # regularization = 2e-5 # default : 4e-5\n",
        "\n",
        "    x = inputs\n",
        "    in_chnls = inputs.shape[-1]\n",
        "    # Expansion\n",
        "    if expansion != 1:\n",
        "        x = Conv2D(kernel_size=1, filters=in_chnls * expansion, strides=1, padding='same', use_bias=False, \\\n",
        "            kernel_regularizer=l2(regularization))(x)\n",
        "        x = BatchNormalization(momentum=momentum, epsilon=0.001)(x)\n",
        "        x = ReLU(max_value=6)(x)\n",
        "        x = Dropout(0.8)(x)\n",
        "        \n",
        "    # Depthwise convolution\n",
        "    x = DepthwiseConv2D(kernel_size=3, strides=strides, padding='same', \\\n",
        "        use_bias=False, depthwise_regularizer=l2(regularization))(x)\n",
        "    x = BatchNormalization(momentum=momentum, epsilon=0.001)(x)\n",
        "    x = ReLU(max_value=6)(x)\n",
        "    \n",
        "    # Linear bottleneck\n",
        "    x = Conv2D(kernel_size=1, filters=filters, strides=1, padding='same', use_bias=False, \\\n",
        "        kernel_regularizer=l2(regularization))(x)\n",
        "    x = BatchNormalization(momentum=momentum, epsilon=0.001)(x)\n",
        "    # No activation\n",
        "    \n",
        "    # Residual connection\n",
        "    if in_chnls == filters and strides == 1:\n",
        "        x = Add()([inputs, x])\n",
        "        \n",
        "    return x #return output of layer"
      ]
    },
    {
      "cell_type": "code",
      "execution_count": 5,
      "metadata": {},
      "outputs": [],
      "source": [
        "def _inverted_res_block_Last(inputs, expansion, filters, strides):\n",
        "    # 마지막 inverted resudial layer의 expansion이후 바로 avergae pooling이 오게 됨\n",
        "    momentum = 0.9 # default: 0.99\n",
        "    regularization = 1e-5 # default : 4e-5\n",
        "\n",
        "    x = inputs\n",
        "    in_chnls = inputs.shape[-1]\n",
        "    \n",
        "    # Expansion\n",
        "    if expansion != 1:\n",
        "        x = Conv2D(kernel_size=1, filters=in_chnls * expansion, strides=1, padding='same', \\\n",
        "            use_bias=False, kernel_regularizer=l2(regularization))(x)\n",
        "        x = BatchNormalization(momentum=momentum, epsilon=0.001)(x)\n",
        "        x = ReLU(max_value=6)(x)\n",
        "\n",
        "    x = tf.keras.layers.GlobalAveragePooling2D(keepdims=True)(x)\n",
        "\n",
        "    ### need to be change the dimension to 1 x 1 from Batchsize, 960 -> Batchsize, 1, 1, 960\n",
        "    x = Conv2D(kernel_size=1, filters=1280, strides=1, padding='same')(x)\n",
        "\n",
        "    return x #return output of layer"
      ]
    },
    {
      "cell_type": "markdown",
      "metadata": {
        "id": "VBNLdmgTzxen"
      },
      "source": [
        "## MobileNetV2 변형 구현"
      ]
    },
    {
      "cell_type": "code",
      "execution_count": 6,
      "metadata": {
        "id": "5TkdqcFRzxen",
        "scrolled": false
      },
      "outputs": [],
      "source": [
        "def MobileNetV2plus(input_shape, classes):\n",
        "    inputs = Input(shape=input_shape)\n",
        "\n",
        "    momentum = 0.9\n",
        "    regularizer = 1e-5\n",
        "\n",
        "    # He Normalizer\n",
        "    initializers = tf.keras.initializers.HeNormal()\n",
        "\n",
        "    x = Conv2D(filters=32, kernel_size=3, strides=2, padding='same', \\\n",
        "        kernel_initializer=initializers)(inputs)\n",
        "    x = BatchNormalization(momentum=momentum, epsilon=0.001)(x)\n",
        "    x = ReLU(max_value=6)(x)\n",
        "    \n",
        "    # inverted residual blocks\n",
        "    x = _inverted_res_block(inputs = x, expansion=1, filters=16, strides=1)\n",
        "\n",
        "    x = _inverted_res_block(inputs = x, expansion=6, filters=24, strides=2)\n",
        "    x = _inverted_res_block(inputs = x, expansion=6, filters=24, strides=1)\n",
        "    # x = Dropout(0.5)(x)\n",
        "\n",
        "    x = _inverted_res_block(inputs = x, expansion=6, filters=32, strides=2)\n",
        "    x = _inverted_res_block(inputs = x, expansion=6, filters=32, strides=1)\n",
        "    x = _inverted_res_block(inputs = x, expansion=6, filters=32, strides=1)\n",
        "\n",
        "    x = _inverted_res_block(inputs = x, expansion=6, filters=64, strides=2)\n",
        "    x = _inverted_res_block(inputs = x, expansion=6, filters=64, strides=1)\n",
        "    x = _inverted_res_block(inputs = x, expansion=6, filters=64, strides=1)\n",
        "    x = _inverted_res_block(inputs = x, expansion=6, filters=64, strides=1)\n",
        "    # x = Dropout(0.8)(x)\n",
        "\n",
        "    x = _inverted_res_block(inputs = x, expansion=6, filters=96, strides=1)\n",
        "    x = _inverted_res_block(inputs = x, expansion=6, filters=96, strides=1)\n",
        "    x = _inverted_res_block(inputs = x, expansion=6, filters=96, strides=1)\n",
        "    # x = Dropout(0.5)(x)\n",
        "    \n",
        "    x = _inverted_res_block(inputs = x, expansion=6, filters=160, strides=2)\n",
        "    x = _inverted_res_block(inputs = x, expansion=6, filters=160, strides=1)\n",
        "    x = _inverted_res_block(inputs = x, expansion=6, filters=160, strides=1)\n",
        "    \n",
        "    # x = _inverted_res_block_Last(inputs = x, expansion=6, filters=160, strides=1)\n",
        "    \n",
        "    # -------------------------------\n",
        "\n",
        "    in_chnls = x.shape[-1]\n",
        "\n",
        "    ### Expansion\n",
        "    expansion = 6\n",
        "    x = Conv2D(kernel_size=1, filters=in_chnls * expansion, strides=1, padding='same', \\\n",
        "               use_bias=False, kernel_regularizer=l2(regularizer))(x)\n",
        "    x = BatchNormalization(momentum=momentum, epsilon=0.001)(x)\n",
        "    x = ReLU(max_value=6)(x)\n",
        "\n",
        "    ### Average Pooling (None, 1, 1, 960)\n",
        "    x = tf.keras.layers.GlobalAveragePooling2D(keepdims=True)(x)\n",
        "\n",
        "    ### 1x1 Conv2D (None, 1, 1, 1280)\n",
        "    x = Conv2D(kernel_size=1, filters=1280, strides=1, padding='same')(x)\n",
        "\n",
        "    # -------------------------------\n",
        "    \n",
        "    # x = Conv2D(kernel_size=1, filters=1280, strides=1, padding='same')(x)\n",
        "    # x = BatchNormalization(momentum=momentum, epsilon=0.001)(x)\n",
        "    # x = ReLU(max_value=6)(x)\n",
        "    \n",
        "    # # global average pooling\n",
        "    # x = GlobalAveragePooling2D()(x)\n",
        "\n",
        "    # -------------------------------\n",
        "    \n",
        "    #3 FC layer\n",
        "    outputs = Dense(classes, activation='softmax')(x)\n",
        "    \n",
        "    return Model(inputs=inputs, outputs=outputs)"
      ]
    },
    {
      "cell_type": "code",
      "execution_count": 7,
      "metadata": {
        "id": "1LvkStJhzxeo",
        "scrolled": false
      },
      "outputs": [
        {
          "name": "stdout",
          "output_type": "stream",
          "text": [
            "Metal device set to: Apple M1 Pro\n",
            "\n",
            "systemMemory: 16.00 GB\n",
            "maxCacheSize: 5.33 GB\n",
            "\n"
          ]
        },
        {
          "name": "stderr",
          "output_type": "stream",
          "text": [
            "2022-09-25 15:19:05.224550: I tensorflow/core/common_runtime/pluggable_device/pluggable_device_factory.cc:305] Could not identify NUMA node of platform GPU ID 0, defaulting to 0. Your kernel may not have been built with NUMA support.\n",
            "2022-09-25 15:19:05.224691: I tensorflow/core/common_runtime/pluggable_device/pluggable_device_factory.cc:271] Created TensorFlow device (/job:localhost/replica:0/task:0/device:GPU:0 with 0 MB memory) -> physical PluggableDevice (device: 0, name: METAL, pci bus id: <undefined>)\n"
          ]
        }
      ],
      "source": [
        "my_mobilenet = MobileNetV2plus((32,32,3),classes=10)\n",
        "# my_mobilenet.summary()"
      ]
    },
    {
      "cell_type": "markdown",
      "metadata": {
        "id": "O69GTfOTzxeo"
      },
      "source": [
        "## Training Data\n",
        "\n",
        "- keras dataset 혹은 tensorflow dataset 이용\n",
        "- train data를 9:1로 나눠서 validation data로 이용"
      ]
    },
    {
      "cell_type": "code",
      "execution_count": 8,
      "metadata": {
        "id": "azOxenuyzxep",
        "scrolled": false
      },
      "outputs": [],
      "source": [
        "from tensorflow.keras.datasets import cifar10\n",
        "#Load data\n",
        "(x_train, y_train), (x_test, y_test) = cifar10.load_data()\n",
        "\n",
        "#Split train set into train/valid set\n",
        "from sklearn import model_selection\n",
        "x_train, x_valid, y_train, y_valid = \\\n",
        "    model_selection.train_test_split(x_train, y_train,test_size=0.1)"
      ]
    },
    {
      "cell_type": "markdown",
      "metadata": {
        "id": "v1R87-fgzxep"
      },
      "source": [
        "## Data Preprocessing\n",
        "자유롭게 전처리"
      ]
    },
    {
      "cell_type": "code",
      "execution_count": 9,
      "metadata": {
        "id": "ZYETZHz1zxep",
        "scrolled": false
      },
      "outputs": [
        {
          "name": "stdout",
          "output_type": "stream",
          "text": [
            "mean before normalization: 120.76163271122685\n",
            "std before normalization: 64.22208139002421\n",
            "\n",
            "\n",
            "(45000, 32, 32, 3)\n",
            "mean after normalization: -0.00218165795522498\n",
            "std after normalization: 1.0049587188707239\n",
            "2.1594935411523557\n",
            "(5000, 32, 32, 3)\n",
            "mean after normalization: -0.010582506475374917\n",
            "std after normalization: 0.9932014938814543\n",
            "2.1594935411523557\n",
            "(10000, 32, 32, 3)\n",
            "mean after normalization: 0.009833931887378109\n",
            "std after normalization: 1.0024512358578086\n",
            "2.1594935411523557\n"
          ]
        }
      ],
      "source": [
        "### Q3. Preporcessing ###\n",
        "\n",
        "# x_train, x_valid, x_test = x_train / 255.0, x_valid / 255.0, x_test / 255.0\n",
        "\n",
        "### --------------------------------------------------------------------------------\n",
        "\n",
        "### Data preprocessing/augmentation for training images\n",
        "import numpy as np\n",
        "print (\"mean before normalization:\", np.mean(x_train)) \n",
        "print (\"std before normalization:\", np.std(x_train))\n",
        "print(\"\\n\")\n",
        "\n",
        "mean=[0,0,0]\n",
        "std=[0,0,0]\n",
        "\n",
        "newX_train = np.ones(x_train.shape)\n",
        "newX_valid = np.ones(x_valid.shape)\n",
        "newX_test = np.ones(x_test.shape)\n",
        "\n",
        "#train, valid, test set에 있는 데이터로 평균과 표준편차를 구함\n",
        "trainList = [x_train, x_valid, x_test]\n",
        "for i in range(3):\n",
        "    mean[i] = np.mean(trainList[i][:,:,:,i])\n",
        "    std[i] = np.std(trainList[i][:,:,:,i])\n",
        "\n",
        "#train과 test셋 모두 정규화 작업    \n",
        "for i in range(3):\n",
        "    newX_train[:,:,:,i] = x_train[:,:,:,i] - mean[i]\n",
        "    newX_train[:,:,:,i] = newX_train[:,:,:,i] / std[i]\n",
        "\n",
        "    newX_valid[:,:,:,i] = x_valid[:,:,:,i] - mean[i]\n",
        "    newX_valid[:,:,:,i] = newX_valid[:,:,:,i] / std[i]\n",
        "\n",
        "    newX_test[:,:,:,i] = x_test[:,:,:,i] - mean[i]\n",
        "    newX_test[:,:,:,i] = newX_test[:,:,:,i] / std[i]\n",
        "        \n",
        "x_train = newX_train\n",
        "x_valid = newX_valid\n",
        "x_test = newX_test\n",
        "trainList = [x_train, x_valid, x_test]\n",
        "\n",
        "for dataSet in trainList:\n",
        "    print(dataSet.shape)\n",
        "    print (\"mean after normalization:\", np.mean(dataSet))\n",
        "    print (\"std after normalization:\", np.std(dataSet))\n",
        "    print(dataSet.max())\n",
        "\n",
        "# --------------------------------------------------------------------------------\n",
        "\n",
        "### set up image augmentation\n",
        "from keras.preprocessing.image import ImageDataGenerator\n",
        "datagen = ImageDataGenerator(\n",
        "    rotation_range=15,\n",
        "    horizontal_flip=True,\n",
        "    width_shift_range=0.1,\n",
        "    height_shift_range=0.1\n",
        "    )\n",
        "    \n",
        "datagen.fit(x_train)\n",
        "datagen.fit(x_valid)\n",
        "datagen.fit(x_test)\n",
        "\n",
        "# # --------------------------------------------------------------------------------"
      ]
    },
    {
      "cell_type": "markdown",
      "metadata": {
        "id": "z6BOLhxLzxep"
      },
      "source": [
        "## Model Compile\n",
        "loss function, optimizer 설정"
      ]
    },
    {
      "cell_type": "code",
      "execution_count": 10,
      "metadata": {},
      "outputs": [],
      "source": [
        "# Learning rate decay function\n",
        "def decay(epoch):\n",
        "    ####### 실습 #######\n",
        "    q = int(epoch / 3)\n",
        "    return 0.01 * (1 - 0.01)**q\n",
        "    ###################\n",
        "    \n",
        "import math\n",
        "def exp_decay(epoch):\n",
        "    ####### 실습 #######\n",
        "    if epoch < 10:\n",
        "        return 0.001\n",
        "    else:\n",
        "        return 0.001 * math.exp(0.1 * (10-epoch))\n",
        "    ###################"
      ]
    },
    {
      "cell_type": "code",
      "execution_count": 11,
      "metadata": {
        "id": "5kti2fkFzxep",
        "scrolled": false
      },
      "outputs": [],
      "source": [
        "### Q4. Model compile ###\n",
        "# loss_fn = tf.keras.losses.SparseCategoricalCrossentropy(from_logits=False)\n",
        "# my_mobilenet.compile(loss=loss_fn, optimizer='adam', metrics=['accuracy'])\n",
        "\n",
        "my_mobilenet.compile(optimizer=\"adam\", loss=\"sparse_categorical_crossentropy\", metrics=['accuracy'])\n",
        "#########################"
      ]
    },
    {
      "cell_type": "code",
      "execution_count": 12,
      "metadata": {
        "id": "DSOCZ5ctzxeq",
        "scrolled": false
      },
      "outputs": [],
      "source": [
        "### Q5. Callbacks ###\n",
        "callbacks = [\n",
        "    tf.keras.callbacks.LearningRateScheduler(decay), \n",
        "    tf.keras.callbacks.EarlyStopping(monitor=\"loss\", patience=7),\n",
        "    tf.keras.callbacks.EarlyStopping(monitor=\"val_loss\", patience=7)\n",
        "]\n",
        "#####################"
      ]
    },
    {
      "cell_type": "code",
      "execution_count": 13,
      "metadata": {},
      "outputs": [
        {
          "name": "stdout",
          "output_type": "stream",
          "text": [
            "WARNING:tensorflow:`period` argument is deprecated. Please use `save_freq` to specify the frequency in number of batches seen.\n"
          ]
        }
      ],
      "source": [
        "### Callbacks for check point for each 5 epoch ###\n",
        "\n",
        "# 1. check point path와 checkpoint directory 정의하기\n",
        "\n",
        "ckpoint_path = \"ckpoint_2/cp-{epoch:04d}.ckpt\"\n",
        "ckpoint_dir = os.path.dirname(ckpoint_path)\n",
        "ckpoint_path = \"ckpoint_1/cp.ckpt\"\n",
        "\n",
        "cp_callbacks = tf.keras.callbacks.ModelCheckpoint(\n",
        "    filepath = ckpoint_path,\n",
        "    verbose=1,\n",
        "    save_weights_only=True,\n",
        "    period=5\n",
        ")\n",
        "\n",
        "# cp_callbacks = [\n",
        "#     tf.keras.callbacks.LearningRateScheduler(exp_decay), \n",
        "#     tf.keras.callbacks.EarlyStopping(monitor=\"loss\", patience=5),\n",
        "#     tf.keras.callbacks.EarlyStopping(monitor=\"val_loss\", patience=7),\n",
        "# ]\n",
        "#####################"
      ]
    },
    {
      "cell_type": "markdown",
      "metadata": {
        "id": "z2w6KyPvzxeq"
      },
      "source": [
        "## Model Training\n",
        "hyperparameter를 적절히 설정한다. (epochs 등..)"
      ]
    },
    {
      "cell_type": "code",
      "execution_count": 14,
      "metadata": {
        "id": "3nOCP5xxzxeq",
        "scrolled": false
      },
      "outputs": [
        {
          "name": "stdout",
          "output_type": "stream",
          "text": [
            "Epoch 1/30\n"
          ]
        },
        {
          "name": "stderr",
          "output_type": "stream",
          "text": [
            "2022-09-25 15:19:08.740231: W tensorflow/core/platform/profile_utils/cpu_utils.cc:128] Failed to get CPU frequency: 0 Hz\n",
            "2022-09-25 15:19:10.936950: I tensorflow/core/grappler/optimizers/custom_graph_optimizer_registry.cc:113] Plugin optimizer for device_type GPU is enabled.\n"
          ]
        },
        {
          "name": "stdout",
          "output_type": "stream",
          "text": [
            "44/44 [==============================] - ETA: 0s - loss: 10.9990 - accuracy: 0.1001"
          ]
        },
        {
          "name": "stderr",
          "output_type": "stream",
          "text": [
            "2022-09-25 15:19:28.689798: I tensorflow/core/grappler/optimizers/custom_graph_optimizer_registry.cc:113] Plugin optimizer for device_type GPU is enabled.\n"
          ]
        },
        {
          "name": "stdout",
          "output_type": "stream",
          "text": [
            "44/44 [==============================] - 21s 361ms/step - loss: 10.9990 - accuracy: 0.1001 - val_loss: 2.4965 - val_accuracy: 0.1069 - lr: 0.0100\n",
            "Epoch 2/30\n",
            "44/44 [==============================] - 15s 320ms/step - loss: 2.4095 - accuracy: 0.0995 - val_loss: 2.4066 - val_accuracy: 0.1069 - lr: 0.0100\n",
            "Epoch 3/30\n",
            "44/44 [==============================] - 13s 298ms/step - loss: 2.4064 - accuracy: 0.1016 - val_loss: 2.4048 - val_accuracy: 0.0996 - lr: 0.0100\n",
            "Epoch 4/30\n",
            "44/44 [==============================] - 14s 327ms/step - loss: 2.4051 - accuracy: 0.1006 - val_loss: 2.4029 - val_accuracy: 0.1069 - lr: 0.0099\n",
            "Epoch 5/30\n",
            "44/44 [==============================] - 13s 289ms/step - loss: 2.4032 - accuracy: 0.1008 - val_loss: 2.4016 - val_accuracy: 0.0996 - lr: 0.0099\n",
            "Epoch 6/30\n",
            "44/44 [==============================] - 13s 288ms/step - loss: 2.4022 - accuracy: 0.1001 - val_loss: 2.4006 - val_accuracy: 0.0987 - lr: 0.0099\n",
            "Epoch 7/30\n",
            "44/44 [==============================] - 13s 293ms/step - loss: 2.3996 - accuracy: 0.0992 - val_loss: 2.3987 - val_accuracy: 0.1012 - lr: 0.0098\n",
            "Epoch 8/30\n",
            "44/44 [==============================] - 13s 302ms/step - loss: 2.3982 - accuracy: 0.0995 - val_loss: 2.3983 - val_accuracy: 0.1006 - lr: 0.0098\n",
            "Epoch 9/30\n",
            "26/44 [================>.............] - ETA: 5s - loss: 2.3972 - accuracy: 0.0993"
          ]
        },
        {
          "ename": "KeyboardInterrupt",
          "evalue": "",
          "output_type": "error",
          "traceback": [
            "\u001b[0;31m---------------------------------------------------------------------------\u001b[0m",
            "\u001b[0;31mKeyboardInterrupt\u001b[0m                         Traceback (most recent call last)",
            "\u001b[1;32m/Users/liontea/Library/CloudStorage/OneDrive-SNU/학교/2022-02 대학원/AAPP/HW/HW3(~9~26)/HW3_MobileNet.ipynb Cell 25\u001b[0m in \u001b[0;36m<cell line: 2>\u001b[0;34m()\u001b[0m\n\u001b[1;32m      <a href='vscode-notebook-cell:/Users/liontea/Library/CloudStorage/OneDrive-SNU/%ED%95%99%EA%B5%90/2022-02%20%EB%8C%80%ED%95%99%EC%9B%90/AAPP/HW/HW3%28~9~26%29/HW3_MobileNet.ipynb#X32sZmlsZQ%3D%3D?line=0'>1</a>\u001b[0m \u001b[39m### Q6. Training ###\u001b[39;00m\n\u001b[0;32m----> <a href='vscode-notebook-cell:/Users/liontea/Library/CloudStorage/OneDrive-SNU/%ED%95%99%EA%B5%90/2022-02%20%EB%8C%80%ED%95%99%EC%9B%90/AAPP/HW/HW3%28~9~26%29/HW3_MobileNet.ipynb#X32sZmlsZQ%3D%3D?line=1'>2</a>\u001b[0m history \u001b[39m=\u001b[39m my_mobilenet\u001b[39m.\u001b[39;49mfit(x_train, y_train, batch_size\u001b[39m=\u001b[39;49m \u001b[39m1024\u001b[39;49m,\n\u001b[1;32m      <a href='vscode-notebook-cell:/Users/liontea/Library/CloudStorage/OneDrive-SNU/%ED%95%99%EA%B5%90/2022-02%20%EB%8C%80%ED%95%99%EC%9B%90/AAPP/HW/HW3%28~9~26%29/HW3_MobileNet.ipynb#X32sZmlsZQ%3D%3D?line=2'>3</a>\u001b[0m                           epochs\u001b[39m=\u001b[39;49m \u001b[39m30\u001b[39;49m,\n\u001b[1;32m      <a href='vscode-notebook-cell:/Users/liontea/Library/CloudStorage/OneDrive-SNU/%ED%95%99%EA%B5%90/2022-02%20%EB%8C%80%ED%95%99%EC%9B%90/AAPP/HW/HW3%28~9~26%29/HW3_MobileNet.ipynb#X32sZmlsZQ%3D%3D?line=3'>4</a>\u001b[0m                           callbacks\u001b[39m=\u001b[39;49mcallbacks,              \n\u001b[1;32m      <a href='vscode-notebook-cell:/Users/liontea/Library/CloudStorage/OneDrive-SNU/%ED%95%99%EA%B5%90/2022-02%20%EB%8C%80%ED%95%99%EC%9B%90/AAPP/HW/HW3%28~9~26%29/HW3_MobileNet.ipynb#X32sZmlsZQ%3D%3D?line=4'>5</a>\u001b[0m                           \u001b[39m# callbacks=cp_callbacks,\u001b[39;49;00m\n\u001b[1;32m      <a href='vscode-notebook-cell:/Users/liontea/Library/CloudStorage/OneDrive-SNU/%ED%95%99%EA%B5%90/2022-02%20%EB%8C%80%ED%95%99%EC%9B%90/AAPP/HW/HW3%28~9~26%29/HW3_MobileNet.ipynb#X32sZmlsZQ%3D%3D?line=5'>6</a>\u001b[0m                           validation_data\u001b[39m=\u001b[39;49m(x_valid, y_valid),\n\u001b[1;32m      <a href='vscode-notebook-cell:/Users/liontea/Library/CloudStorage/OneDrive-SNU/%ED%95%99%EA%B5%90/2022-02%20%EB%8C%80%ED%95%99%EC%9B%90/AAPP/HW/HW3%28~9~26%29/HW3_MobileNet.ipynb#X32sZmlsZQ%3D%3D?line=6'>7</a>\u001b[0m                           shuffle\u001b[39m=\u001b[39;49m\u001b[39mTrue\u001b[39;49;00m)\n",
            "File \u001b[0;32m~/miniconda3/envs/tf2.9.2_p3.10.5/lib/python3.10/site-packages/keras/utils/traceback_utils.py:64\u001b[0m, in \u001b[0;36mfilter_traceback.<locals>.error_handler\u001b[0;34m(*args, **kwargs)\u001b[0m\n\u001b[1;32m     62\u001b[0m filtered_tb \u001b[39m=\u001b[39m \u001b[39mNone\u001b[39;00m\n\u001b[1;32m     63\u001b[0m \u001b[39mtry\u001b[39;00m:\n\u001b[0;32m---> 64\u001b[0m   \u001b[39mreturn\u001b[39;00m fn(\u001b[39m*\u001b[39;49margs, \u001b[39m*\u001b[39;49m\u001b[39m*\u001b[39;49mkwargs)\n\u001b[1;32m     65\u001b[0m \u001b[39mexcept\u001b[39;00m \u001b[39mException\u001b[39;00m \u001b[39mas\u001b[39;00m e:  \u001b[39m# pylint: disable=broad-except\u001b[39;00m\n\u001b[1;32m     66\u001b[0m   filtered_tb \u001b[39m=\u001b[39m _process_traceback_frames(e\u001b[39m.\u001b[39m__traceback__)\n",
            "File \u001b[0;32m~/miniconda3/envs/tf2.9.2_p3.10.5/lib/python3.10/site-packages/keras/engine/training.py:1409\u001b[0m, in \u001b[0;36mModel.fit\u001b[0;34m(self, x, y, batch_size, epochs, verbose, callbacks, validation_split, validation_data, shuffle, class_weight, sample_weight, initial_epoch, steps_per_epoch, validation_steps, validation_batch_size, validation_freq, max_queue_size, workers, use_multiprocessing)\u001b[0m\n\u001b[1;32m   1402\u001b[0m \u001b[39mwith\u001b[39;00m tf\u001b[39m.\u001b[39mprofiler\u001b[39m.\u001b[39mexperimental\u001b[39m.\u001b[39mTrace(\n\u001b[1;32m   1403\u001b[0m     \u001b[39m'\u001b[39m\u001b[39mtrain\u001b[39m\u001b[39m'\u001b[39m,\n\u001b[1;32m   1404\u001b[0m     epoch_num\u001b[39m=\u001b[39mepoch,\n\u001b[1;32m   1405\u001b[0m     step_num\u001b[39m=\u001b[39mstep,\n\u001b[1;32m   1406\u001b[0m     batch_size\u001b[39m=\u001b[39mbatch_size,\n\u001b[1;32m   1407\u001b[0m     _r\u001b[39m=\u001b[39m\u001b[39m1\u001b[39m):\n\u001b[1;32m   1408\u001b[0m   callbacks\u001b[39m.\u001b[39mon_train_batch_begin(step)\n\u001b[0;32m-> 1409\u001b[0m   tmp_logs \u001b[39m=\u001b[39m \u001b[39mself\u001b[39;49m\u001b[39m.\u001b[39;49mtrain_function(iterator)\n\u001b[1;32m   1410\u001b[0m   \u001b[39mif\u001b[39;00m data_handler\u001b[39m.\u001b[39mshould_sync:\n\u001b[1;32m   1411\u001b[0m     context\u001b[39m.\u001b[39masync_wait()\n",
            "File \u001b[0;32m~/miniconda3/envs/tf2.9.2_p3.10.5/lib/python3.10/site-packages/tensorflow/python/util/traceback_utils.py:150\u001b[0m, in \u001b[0;36mfilter_traceback.<locals>.error_handler\u001b[0;34m(*args, **kwargs)\u001b[0m\n\u001b[1;32m    148\u001b[0m filtered_tb \u001b[39m=\u001b[39m \u001b[39mNone\u001b[39;00m\n\u001b[1;32m    149\u001b[0m \u001b[39mtry\u001b[39;00m:\n\u001b[0;32m--> 150\u001b[0m   \u001b[39mreturn\u001b[39;00m fn(\u001b[39m*\u001b[39;49margs, \u001b[39m*\u001b[39;49m\u001b[39m*\u001b[39;49mkwargs)\n\u001b[1;32m    151\u001b[0m \u001b[39mexcept\u001b[39;00m \u001b[39mException\u001b[39;00m \u001b[39mas\u001b[39;00m e:\n\u001b[1;32m    152\u001b[0m   filtered_tb \u001b[39m=\u001b[39m _process_traceback_frames(e\u001b[39m.\u001b[39m__traceback__)\n",
            "File \u001b[0;32m~/miniconda3/envs/tf2.9.2_p3.10.5/lib/python3.10/site-packages/tensorflow/python/eager/def_function.py:915\u001b[0m, in \u001b[0;36mFunction.__call__\u001b[0;34m(self, *args, **kwds)\u001b[0m\n\u001b[1;32m    912\u001b[0m compiler \u001b[39m=\u001b[39m \u001b[39m\"\u001b[39m\u001b[39mxla\u001b[39m\u001b[39m\"\u001b[39m \u001b[39mif\u001b[39;00m \u001b[39mself\u001b[39m\u001b[39m.\u001b[39m_jit_compile \u001b[39melse\u001b[39;00m \u001b[39m\"\u001b[39m\u001b[39mnonXla\u001b[39m\u001b[39m\"\u001b[39m\n\u001b[1;32m    914\u001b[0m \u001b[39mwith\u001b[39;00m OptionalXlaContext(\u001b[39mself\u001b[39m\u001b[39m.\u001b[39m_jit_compile):\n\u001b[0;32m--> 915\u001b[0m   result \u001b[39m=\u001b[39m \u001b[39mself\u001b[39;49m\u001b[39m.\u001b[39;49m_call(\u001b[39m*\u001b[39;49margs, \u001b[39m*\u001b[39;49m\u001b[39m*\u001b[39;49mkwds)\n\u001b[1;32m    917\u001b[0m new_tracing_count \u001b[39m=\u001b[39m \u001b[39mself\u001b[39m\u001b[39m.\u001b[39mexperimental_get_tracing_count()\n\u001b[1;32m    918\u001b[0m without_tracing \u001b[39m=\u001b[39m (tracing_count \u001b[39m==\u001b[39m new_tracing_count)\n",
            "File \u001b[0;32m~/miniconda3/envs/tf2.9.2_p3.10.5/lib/python3.10/site-packages/tensorflow/python/eager/def_function.py:947\u001b[0m, in \u001b[0;36mFunction._call\u001b[0;34m(self, *args, **kwds)\u001b[0m\n\u001b[1;32m    944\u001b[0m   \u001b[39mself\u001b[39m\u001b[39m.\u001b[39m_lock\u001b[39m.\u001b[39mrelease()\n\u001b[1;32m    945\u001b[0m   \u001b[39m# In this case we have created variables on the first call, so we run the\u001b[39;00m\n\u001b[1;32m    946\u001b[0m   \u001b[39m# defunned version which is guaranteed to never create variables.\u001b[39;00m\n\u001b[0;32m--> 947\u001b[0m   \u001b[39mreturn\u001b[39;00m \u001b[39mself\u001b[39;49m\u001b[39m.\u001b[39;49m_stateless_fn(\u001b[39m*\u001b[39;49margs, \u001b[39m*\u001b[39;49m\u001b[39m*\u001b[39;49mkwds)  \u001b[39m# pylint: disable=not-callable\u001b[39;00m\n\u001b[1;32m    948\u001b[0m \u001b[39melif\u001b[39;00m \u001b[39mself\u001b[39m\u001b[39m.\u001b[39m_stateful_fn \u001b[39mis\u001b[39;00m \u001b[39mnot\u001b[39;00m \u001b[39mNone\u001b[39;00m:\n\u001b[1;32m    949\u001b[0m   \u001b[39m# Release the lock early so that multiple threads can perform the call\u001b[39;00m\n\u001b[1;32m    950\u001b[0m   \u001b[39m# in parallel.\u001b[39;00m\n\u001b[1;32m    951\u001b[0m   \u001b[39mself\u001b[39m\u001b[39m.\u001b[39m_lock\u001b[39m.\u001b[39mrelease()\n",
            "File \u001b[0;32m~/miniconda3/envs/tf2.9.2_p3.10.5/lib/python3.10/site-packages/tensorflow/python/eager/function.py:2453\u001b[0m, in \u001b[0;36mFunction.__call__\u001b[0;34m(self, *args, **kwargs)\u001b[0m\n\u001b[1;32m   2450\u001b[0m \u001b[39mwith\u001b[39;00m \u001b[39mself\u001b[39m\u001b[39m.\u001b[39m_lock:\n\u001b[1;32m   2451\u001b[0m   (graph_function,\n\u001b[1;32m   2452\u001b[0m    filtered_flat_args) \u001b[39m=\u001b[39m \u001b[39mself\u001b[39m\u001b[39m.\u001b[39m_maybe_define_function(args, kwargs)\n\u001b[0;32m-> 2453\u001b[0m \u001b[39mreturn\u001b[39;00m graph_function\u001b[39m.\u001b[39;49m_call_flat(\n\u001b[1;32m   2454\u001b[0m     filtered_flat_args, captured_inputs\u001b[39m=\u001b[39;49mgraph_function\u001b[39m.\u001b[39;49mcaptured_inputs)\n",
            "File \u001b[0;32m~/miniconda3/envs/tf2.9.2_p3.10.5/lib/python3.10/site-packages/tensorflow/python/eager/function.py:1860\u001b[0m, in \u001b[0;36mConcreteFunction._call_flat\u001b[0;34m(self, args, captured_inputs, cancellation_manager)\u001b[0m\n\u001b[1;32m   1856\u001b[0m possible_gradient_type \u001b[39m=\u001b[39m gradients_util\u001b[39m.\u001b[39mPossibleTapeGradientTypes(args)\n\u001b[1;32m   1857\u001b[0m \u001b[39mif\u001b[39;00m (possible_gradient_type \u001b[39m==\u001b[39m gradients_util\u001b[39m.\u001b[39mPOSSIBLE_GRADIENT_TYPES_NONE\n\u001b[1;32m   1858\u001b[0m     \u001b[39mand\u001b[39;00m executing_eagerly):\n\u001b[1;32m   1859\u001b[0m   \u001b[39m# No tape is watching; skip to running the function.\u001b[39;00m\n\u001b[0;32m-> 1860\u001b[0m   \u001b[39mreturn\u001b[39;00m \u001b[39mself\u001b[39m\u001b[39m.\u001b[39m_build_call_outputs(\u001b[39mself\u001b[39;49m\u001b[39m.\u001b[39;49m_inference_function\u001b[39m.\u001b[39;49mcall(\n\u001b[1;32m   1861\u001b[0m       ctx, args, cancellation_manager\u001b[39m=\u001b[39;49mcancellation_manager))\n\u001b[1;32m   1862\u001b[0m forward_backward \u001b[39m=\u001b[39m \u001b[39mself\u001b[39m\u001b[39m.\u001b[39m_select_forward_and_backward_functions(\n\u001b[1;32m   1863\u001b[0m     args,\n\u001b[1;32m   1864\u001b[0m     possible_gradient_type,\n\u001b[1;32m   1865\u001b[0m     executing_eagerly)\n\u001b[1;32m   1866\u001b[0m forward_function, args_with_tangents \u001b[39m=\u001b[39m forward_backward\u001b[39m.\u001b[39mforward()\n",
            "File \u001b[0;32m~/miniconda3/envs/tf2.9.2_p3.10.5/lib/python3.10/site-packages/tensorflow/python/eager/function.py:497\u001b[0m, in \u001b[0;36m_EagerDefinedFunction.call\u001b[0;34m(self, ctx, args, cancellation_manager)\u001b[0m\n\u001b[1;32m    495\u001b[0m \u001b[39mwith\u001b[39;00m _InterpolateFunctionError(\u001b[39mself\u001b[39m):\n\u001b[1;32m    496\u001b[0m   \u001b[39mif\u001b[39;00m cancellation_manager \u001b[39mis\u001b[39;00m \u001b[39mNone\u001b[39;00m:\n\u001b[0;32m--> 497\u001b[0m     outputs \u001b[39m=\u001b[39m execute\u001b[39m.\u001b[39;49mexecute(\n\u001b[1;32m    498\u001b[0m         \u001b[39mstr\u001b[39;49m(\u001b[39mself\u001b[39;49m\u001b[39m.\u001b[39;49msignature\u001b[39m.\u001b[39;49mname),\n\u001b[1;32m    499\u001b[0m         num_outputs\u001b[39m=\u001b[39;49m\u001b[39mself\u001b[39;49m\u001b[39m.\u001b[39;49m_num_outputs,\n\u001b[1;32m    500\u001b[0m         inputs\u001b[39m=\u001b[39;49margs,\n\u001b[1;32m    501\u001b[0m         attrs\u001b[39m=\u001b[39;49mattrs,\n\u001b[1;32m    502\u001b[0m         ctx\u001b[39m=\u001b[39;49mctx)\n\u001b[1;32m    503\u001b[0m   \u001b[39melse\u001b[39;00m:\n\u001b[1;32m    504\u001b[0m     outputs \u001b[39m=\u001b[39m execute\u001b[39m.\u001b[39mexecute_with_cancellation(\n\u001b[1;32m    505\u001b[0m         \u001b[39mstr\u001b[39m(\u001b[39mself\u001b[39m\u001b[39m.\u001b[39msignature\u001b[39m.\u001b[39mname),\n\u001b[1;32m    506\u001b[0m         num_outputs\u001b[39m=\u001b[39m\u001b[39mself\u001b[39m\u001b[39m.\u001b[39m_num_outputs,\n\u001b[0;32m   (...)\u001b[0m\n\u001b[1;32m    509\u001b[0m         ctx\u001b[39m=\u001b[39mctx,\n\u001b[1;32m    510\u001b[0m         cancellation_manager\u001b[39m=\u001b[39mcancellation_manager)\n",
            "File \u001b[0;32m~/miniconda3/envs/tf2.9.2_p3.10.5/lib/python3.10/site-packages/tensorflow/python/eager/execute.py:54\u001b[0m, in \u001b[0;36mquick_execute\u001b[0;34m(op_name, num_outputs, inputs, attrs, ctx, name)\u001b[0m\n\u001b[1;32m     52\u001b[0m \u001b[39mtry\u001b[39;00m:\n\u001b[1;32m     53\u001b[0m   ctx\u001b[39m.\u001b[39mensure_initialized()\n\u001b[0;32m---> 54\u001b[0m   tensors \u001b[39m=\u001b[39m pywrap_tfe\u001b[39m.\u001b[39;49mTFE_Py_Execute(ctx\u001b[39m.\u001b[39;49m_handle, device_name, op_name,\n\u001b[1;32m     55\u001b[0m                                       inputs, attrs, num_outputs)\n\u001b[1;32m     56\u001b[0m \u001b[39mexcept\u001b[39;00m core\u001b[39m.\u001b[39m_NotOkStatusException \u001b[39mas\u001b[39;00m e:\n\u001b[1;32m     57\u001b[0m   \u001b[39mif\u001b[39;00m name \u001b[39mis\u001b[39;00m \u001b[39mnot\u001b[39;00m \u001b[39mNone\u001b[39;00m:\n",
            "\u001b[0;31mKeyboardInterrupt\u001b[0m: "
          ]
        }
      ],
      "source": [
        "### Q6. Training ###\n",
        "history = my_mobilenet.fit(x_train, y_train, batch_size= 1024,\n",
        "                          epochs= 30,\n",
        "                          callbacks=callbacks,              \n",
        "                          # callbacks=cp_callbacks,\n",
        "                          validation_data=(x_valid, y_valid),\n",
        "                          shuffle=True)\n",
        "####################"
      ]
    },
    {
      "cell_type": "markdown",
      "metadata": {
        "id": "7WzvdkTkzxeq"
      },
      "source": [
        "## 참고용\n",
        "조교가 학습한 모델의 validation accuracy를 그래프로 나타내 보았다."
      ]
    },
    {
      "cell_type": "code",
      "execution_count": null,
      "metadata": {
        "id": "rcd2exS-zxeq",
        "outputId": "9dc6b7ab-535f-40ee-f643-4ea62206c140",
        "scrolled": false
      },
      "outputs": [],
      "source": [
        "import matplotlib.pyplot as plt\n",
        "\n",
        "plt.plot(history.history['val_accuracy'])\n",
        "plt.title('Validation Accuracy', fontsize=15)\n",
        "plt.xlabel('epochs', fontsize=15)\n",
        "plt.ylabel('Acc.', fontsize=15)\n",
        "\n",
        "plt.show()"
      ]
    },
    {
      "cell_type": "markdown",
      "metadata": {
        "id": "uLf12NSyzxer"
      },
      "source": [
        "## Test Accuracy\n",
        "\n",
        "test accuracy 측정 결과 **80% 이상**이 나와야 한다."
      ]
    },
    {
      "cell_type": "code",
      "execution_count": null,
      "metadata": {
        "id": "6TZdoqT9zxer",
        "outputId": "adb52b13-eb10-40a1-9fb4-787d5b0f50fd",
        "scrolled": false
      },
      "outputs": [],
      "source": [
        "my_mobilenet.evaluate(x_test,y_test)"
      ]
    }
  ],
  "metadata": {
    "colab": {
      "name": "HW3_MobileNet.ipynb",
      "provenance": []
    },
    "kernelspec": {
      "display_name": "Python 3.10.4 ('tf2.9.2_p3.10.5')",
      "language": "python",
      "name": "python3"
    },
    "language_info": {
      "codemirror_mode": {
        "name": "ipython",
        "version": 3
      },
      "file_extension": ".py",
      "mimetype": "text/x-python",
      "name": "python",
      "nbconvert_exporter": "python",
      "pygments_lexer": "ipython3",
      "version": "3.10.4"
    },
    "vscode": {
      "interpreter": {
        "hash": "8c31b0689a7bec413e878940c4f2ea1fe706742fa9eff333423f2bce8cde687e"
      }
    }
  },
  "nbformat": 4,
  "nbformat_minor": 0
}
